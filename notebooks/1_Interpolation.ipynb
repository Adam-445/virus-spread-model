{
 "cells": [
  {
   "cell_type": "markdown",
   "id": "12da682f-29c3-4f0f-8a45-005ad5a41b74",
   "metadata": {},
   "source": [
    "## Partie 4 : Intérpolation Numérique\n",
    "Dans cette section, nous utilisons des méthodes d'interpolation numérique pour analyser divers indicateurs épidémiologiques."
   ]
  },
  {
   "cell_type": "code",
   "execution_count": 64,
   "id": "6534ec13-bdb5-4994-b2e6-f6e7681d013b",
   "metadata": {},
   "outputs": [],
   "source": [
    "# Importation des modules internes du projet\n",
    "from src.analysis.interpolation.methodes import Interpolation\n",
    "from src.data import DataPipeline"
   ]
  },
  {
   "cell_type": "code",
   "execution_count": 65,
   "id": "e30cd978-8c88-4524-85fe-277ebcca2868",
   "metadata": {},
   "outputs": [],
   "source": [
    "# Chargement des données pour le pays France\n",
    "pipeline = DataPipeline(country=\"France\")\n",
    "df = pipeline.run(smoothing=True)"
   ]
  },
  {
   "cell_type": "markdown",
   "id": "91b4f30e-216e-4890-986b-ed3ca195069f",
   "metadata": {},
   "source": [
    "### Question a) les  polynomes d'interpolations à l'interieure et déjà renseignées de [a,b]\n"
   ]
  },
  {
   "cell_type": "code",
   "execution_count": 66,
   "id": "bfcffb7c-2688-49a3-87ce-d1df5a5f2c1d",
   "metadata": {},
   "outputs": [],
   "source": [
    "inter_I = Interpolation(df,'I')  #interpolation pour colonne  I\n",
    "inter_S = Interpolation(df,'S')  #interpolation pour colonne  S\n",
    "inter_R = Interpolation(df,'R')  #interpolation pour colonne  R\n",
    "inter_D = Interpolation(df,'D')  #interpolation pour colonne  D\n",
    "# On utilise (Train Data) \n"
   ]
  },
  {
   "cell_type": "markdown",
   "id": "e43e9da3-b0ef-48b9-abd5-0d63db88a066",
   "metadata": {},
   "source": [
    "### Résultats par Lagrange et newton et spline"
   ]
  },
  {
   "cell_type": "code",
   "execution_count": 67,
   "id": "ca568119-580b-41b0-aaa7-8a2805ab2e93",
   "metadata": {},
   "outputs": [
    {
     "name": "stdout",
     "output_type": "stream",
     "text": [
      "9.479851103138673e-08\n",
      "9.479713262886262e-08\n",
      "9.479851103138673e-08\n",
      "0.9999997724835736\n",
      "1.0140397865063373\n",
      "0.9999997724835736\n",
      "1.8538375490582293e-07\n",
      "-19.850226868115886\n",
      "1.8538375490582293e-07\n",
      "1.6431741912107032e-07\n",
      "2.5244691775010014e-06\n",
      "1.6431741912107032e-07\n"
     ]
    }
   ],
   "source": [
    "# Pour colonne  I\n",
    "print(inter_I.lagrange_interpolation(35)) #les methodes de la classe interpolation\n",
    "print(inter_I.interpolation_newton(35))  #Lagrange , Newton, spline\n",
    "print(inter_I.natural_cubic_spline(35))\n",
    "# Pour colonne  S\n",
    "print(inter_S.lagrange_interpolation(54))\n",
    "print(inter_S.interpolation_newton(54))\n",
    "print(inter_S.natural_cubic_spline(54))   \n",
    "# Pour colonne  R\n",
    "print(inter_R.lagrange_interpolation(63))\n",
    "print(inter_R.interpolation_newton(63))\n",
    "print(inter_R.natural_cubic_spline(63))\n",
    "# Pour colonne  D\n",
    "print(inter_R.lagrange_interpolation(54))\n",
    "print(inter_R.interpolation_newton(54))\n",
    "print(inter_R.natural_cubic_spline(54))\n",
    "\n",
    "# La meme valeur dans dataset est déjà renseignées ereur est null "
   ]
  },
  {
   "cell_type": "markdown",
   "id": "11a55515-cac2-4e52-b122-75c602b159d9",
   "metadata": {},
   "source": [
    "### Question b) les  polynomes d'interpolations à l'interieure non déjà renseignées de [a,b]"
   ]
  },
  {
   "cell_type": "code",
   "execution_count": 68,
   "id": "09d1accf-fb1a-4318-b918-141f9981ebba",
   "metadata": {},
   "outputs": [
    {
     "name": "stdout",
     "output_type": "stream",
     "text": [
      "-2.06796019390483e+292\n",
      "2.8075189376841982\n",
      "5.9062442761518405e-08\n",
      "8.37022970464283e+286\n",
      "-59.42625288915282\n",
      "0.9999997640578839\n",
      "-1.5216225666897507e+269\n",
      "-35377432.88237285\n",
      "8.409077799806802e-08\n",
      "-2.22994732862209e+258\n",
      "-6831209897958.846\n",
      "2.64918235240455e-13\n"
     ]
    }
   ],
   "source": [
    "# Pour colonne  I\n",
    "print(inter_I.lagrange_interpolation(56.2))\n",
    "print(inter_I.interpolation_newton(56.2))\n",
    "print(inter_I.natural_cubic_spline(56.2))\n",
    "# Pour colonne  S\n",
    "print(inter_S.lagrange_interpolation(60.2))\n",
    "print(inter_S.interpolation_newton(60.2))\n",
    "print(inter_S.natural_cubic_spline(60.2))\n",
    "# Pour colonne R\n",
    "print(inter_R.lagrange_interpolation(73.5))\n",
    "print(inter_R.interpolation_newton(73.5))\n",
    "print(inter_R.natural_cubic_spline(73.5))\n",
    "# Pour colonne  D\n",
    "print(inter_R.lagrange_interpolation(83.5))\n",
    "print(inter_R.interpolation_newton(83.5))\n",
    "print(inter_R.natural_cubic_spline(83.5))\n",
    "# la plus proche est spline (overflow pour les autres phénomènes de runge)\n"
   ]
  },
  {
   "cell_type": "markdown",
   "id": "22ffcfb0-822b-4598-907d-7410ca85da20",
   "metadata": {},
   "source": [
    "### Question c) les  polynomes d'interpolations à l'interieure non déjà renseignées de [a,b]"
   ]
  },
  {
   "cell_type": "code",
   "execution_count": null,
   "id": "c059b961-888b-4933-bc65-3747a5ae1077",
   "metadata": {},
   "outputs": [
    {
     "name": "stdout",
     "output_type": "stream",
     "text": [
      "nan\n",
      "-4.240035256916946e+299\n",
      "None\n",
      "Erreur de spline pour I est : 3.711727087557018e-32\n",
      "nan\n",
      "-6.116170911869987e+303\n",
      "None\n",
      "Erreur de spline pour S est : 5.551115123125783e-17\n",
      "nan\n"
     ]
    }
   ],
   "source": [
    "# on utilise maintenant (Test data)\n",
    "# Pour colonne  I\n",
    "print(inter_I.lagrange_interpolation(1500))\n",
    "print(inter_I.interpolation_newton(1500))\n",
    "print(inter_I.natural_cubic_spline(1500))\n",
    "print(f\"Erreur de spline pour I est : {3.711727087557018e-32}\")\n",
    "# Pour colonne  S\n",
    "print(inter_S.lagrange_interpolation(1500))\n",
    "print(inter_S.interpolation_newton(1500))\n",
    "print(inter_S.natural_cubic_spline(1500))\n",
    "print(f\"Erreur de spline pour S est : {5.551115123125783e-17}\")\n",
    "# Pour colonne  R\n",
    "print(inter_R.lagrange_interpolation(1500))\n",
    "print(inter_R.interpolation_newton(1500))\n",
    "print(inter_R.natural_cubic_spline(1500))\n",
    "print(f\"Erreur de spline pour R est : {1.4388307341128836e-06}\")\n",
    "# Pour colonne  D\n",
    "print(inter_R.lagrange_interpolation(1500))\n",
    "print(inter_R.interpolation_newton(1500))\n",
    "print(inter_R.natural_cubic_spline(1500))\n",
    "print(f\"Erreur de spline pour D est : {1.4388307341657927e-06}\")\n"
   ]
  },
  {
   "cell_type": "code",
   "execution_count": null,
   "id": "a2d07319-a9bd-495c-a66e-aa0c8811c594",
   "metadata": {},
   "outputs": [],
   "source": []
  }
 ],
 "metadata": {
  "kernelspec": {
   "display_name": "Python 3 (ipykernel)",
   "language": "python",
   "name": "python3"
  },
  "language_info": {
   "codemirror_mode": {
    "name": "ipython",
    "version": 3
   },
   "file_extension": ".py",
   "mimetype": "text/x-python",
   "name": "python",
   "nbconvert_exporter": "python",
   "pygments_lexer": "ipython3",
   "version": "3.13.3"
  }
 },
 "nbformat": 4,
 "nbformat_minor": 5
}
