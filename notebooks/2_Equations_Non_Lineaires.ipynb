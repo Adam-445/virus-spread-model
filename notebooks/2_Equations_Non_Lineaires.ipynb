{
 "cells": [
  {
   "cell_type": "markdown",
   "id": "c8e18fbb",
   "metadata": {},
   "source": [
    "## Partie 2 : Équation non linéaire\n",
    "Dans cette section, nous appliquons des méthodes de résolution d’équations non linéaires afin d’analyser divers indicateurs épidémiologiques."
   ]
  },
  {
   "cell_type": "code",
   "execution_count": 1,
   "id": "60f44af9",
   "metadata": {},
   "outputs": [],
   "source": [
    "#Importation des bibliotheque necessaires\n",
    "import pandas as pd\n",
    "import numpy as np\n",
    "\n",
    "# Importation des modules internes du projet\n",
    "from src.analysis import estimer_parametres_rab\n",
    "from src.analysis.equations_differentielles.simulateur_sird import SimulateurSIRD\n",
    "from src.analysis.integration.methodes import Integration\n",
    "from src.data import DataPipeline"
   ]
  },
  {
   "cell_type": "code",
   "execution_count": 2,
   "id": "8f307f8c",
   "metadata": {},
   "outputs": [],
   "source": [
    "# Chargement des données pour le pays France\n",
    "pipeline = DataPipeline(country=\"France\")\n",
    "df = pipeline.run(smoothing=True)\n",
    "\n",
    "population = pipeline.population\n",
    "parametres = estimer_parametres_rab(df)"
   ]
  },
  {
   "cell_type": "code",
   "execution_count": 3,
   "id": "78cd8772",
   "metadata": {},
   "outputs": [],
   "source": [
    "# Affectation de chaque variable avec sa valeur\n",
    "t = df.index.values\n",
    "S = df[\"S\"].values\n",
    "I = df[\"I\"].values\n",
    "Imax=df[\"lits_par_mille\"].iloc[0]/1000 \n",
    "r=estimer_parametres_rab(df)['r']\n",
    "a=estimer_parametres_rab(df)['a']\n",
    "b=estimer_parametres_rab(df)['b']"
   ]
  },
  {
   "cell_type": "markdown",
   "id": "aada1de6",
   "metadata": {},
   "source": [
    "### Question a) Détermination du pic épidémique  \n",
    "**Objectif** : Trouver le moment où l'épidémie atteint son pic (nombre d'infectés maximal).  \n",
    "**Méthode** : Résoudre l'équation non linéaire:  $rS(t)I(t) - (a + b)I(t) = 0 \\Rightarrow S = \\frac{a + b}{r}$"
   ]
  },
  {
   "cell_type": "code",
   "execution_count": 4,
   "id": "e5a6e297",
   "metadata": {},
   "outputs": [],
   "source": [
    "#calcul du pic epedimique\n",
    "dI_dt = r * I * S - (a + b) * I\n",
    "# Recherche du changement de signe de la dérivée dI/dt, \n",
    "# ce qui indique un changement de monotonicité de I(t) \n",
    "# (passage d'une phase croissante à décroissante, donc un pic épidémique)\n",
    "changements_signe = np.where(np.diff(np.sign(dI_dt)) < 0)[0]\n",
    "\n",
    "#Verification s'il y a un changement de signe ou non\n",
    "if len(changements_signe) == 0:\n",
    "    pic_epidemique=None\n",
    "else:\n",
    "    index_pic_epidemique=t[changements_signe[0] + 1]  # +1 car diff réduit la longueur\n",
    "    pic_epidemique=S[changements_signe[0]+1] #+1 car diff reduit la longuer"
   ]
  },
  {
   "cell_type": "markdown",
   "id": "2ca383f5",
   "metadata": {},
   "source": [
    "#### Résultats"
   ]
  },
  {
   "cell_type": "code",
   "execution_count": 5,
   "id": "5f67c701",
   "metadata": {},
   "outputs": [
    {
     "name": "stdout",
     "output_type": "stream",
     "text": [
      "La valeur de S et t au pic epedimique est: \n",
      " S=0.9999997640570392 \n",
      " t=69\n"
     ]
    }
   ],
   "source": [
    "print(f\"La valeur de S et t au pic epedimique est:\",\"\\n\",f\"S={pic_epidemique}\",\"\\n\",f\"t={index_pic_epidemique}\")"
   ]
  },
  {
   "cell_type": "markdown",
   "id": "2e1f27ec",
   "metadata": {},
   "source": [
    "### Question b) Seuil d'immunité collective (HIT)  \n",
    "**Objectif** : Calculer la proportion minimale de la population immunisée pour arrêter l'épidémie.  \n",
    "**Méthode** : Le seuil critique est donné par : $P_c = 1 - S_c = 1 - \\frac{a + b}{r}.$"
   ]
  },
  {
   "cell_type": "code",
   "execution_count": 6,
   "id": "28167dc9",
   "metadata": {},
   "outputs": [],
   "source": [
    "#Seuil critique des personnes susceptible\n",
    "Sc=(a+b)/r\n",
    "#la proportion minimale de la population qui doit être immunisée\n",
    "Pc=1-Sc\n"
   ]
  },
  {
   "cell_type": "markdown",
   "id": "2b29826e",
   "metadata": {},
   "source": [
    "#### Résultats"
   ]
  },
  {
   "cell_type": "code",
   "execution_count": 7,
   "id": "42407f5f",
   "metadata": {},
   "outputs": [
    {
     "name": "stdout",
     "output_type": "stream",
     "text": [
      "la proportion minimale de la population qui doit être immunisée est : Pc=0.26334517263093205\n"
     ]
    }
   ],
   "source": [
    "print(f\"la proportion minimale de la population qui doit être immunisée est : Pc={Pc}\")"
   ]
  },
  {
   "cell_type": "markdown",
   "id": "75494d1d",
   "metadata": {},
   "source": [
    "### Question c) Temps critique pour une intervention sanitaire  \n",
    "**Objectif** : Identifier le moment où les infections dépassent la capacité hospitalière $I_{\\text{max}}$.  \n",
    "**Méthode** : Résoudre numériquement l'équation : $I(t_c) = I_{\\text{max}}$"
   ]
  },
  {
   "cell_type": "code",
   "execution_count": 8,
   "id": "47f69249",
   "metadata": {},
   "outputs": [],
   "source": [
    "#estimation de tc: temps critique\n",
    "tc=None\n",
    "for i, val in enumerate(I):\n",
    "    if val > Imax:\n",
    "        tc=i \n",
    "        break\n",
    "    "
   ]
  },
  {
   "cell_type": "markdown",
   "id": "abbf6b31",
   "metadata": {},
   "source": [
    "#### Résultats"
   ]
  },
  {
   "cell_type": "code",
   "execution_count": 9,
   "id": "c87d3785",
   "metadata": {},
   "outputs": [
    {
     "name": "stdout",
     "output_type": "stream",
     "text": [
      "Le temps critique est: tc=299\n"
     ]
    }
   ],
   "source": [
    "print(f\"Le temps critique est: tc={tc}\")"
   ]
  },
  {
   "cell_type": "markdown",
   "id": "ccfe28ce",
   "metadata": {},
   "source": [
    "### Question d) Calcul du nombre de reproduction de base $R_0$  \n",
    "**Objectif** : Estimer $R_0$ à partir des paramètres épidémiques.  \n",
    "**Méthode** : Utiliser la formule théorique :  $R_0 = \\frac{r}{a + b}$"
   ]
  },
  {
   "cell_type": "code",
   "execution_count": 10,
   "id": "b451d2d0",
   "metadata": {},
   "outputs": [],
   "source": [
    "#Calcul du nombre de reproduction de base R_0\n",
    "R0=(r)/(a+b)"
   ]
  },
  {
   "cell_type": "markdown",
   "id": "b1223522",
   "metadata": {},
   "source": [
    "#### Résultats"
   ]
  },
  {
   "cell_type": "code",
   "execution_count": 11,
   "id": "c5a36de2",
   "metadata": {},
   "outputs": [
    {
     "name": "stdout",
     "output_type": "stream",
     "text": [
      "Le nombre de reproduction de base R_0 est:\n",
      "R0=1.3574878801398185\n"
     ]
    }
   ],
   "source": [
    "print(f\"Le nombre de reproduction de base R_0 est:\\nR0={R0}\")"
   ]
  }
 ],
 "metadata": {
  "kernelspec": {
   "display_name": "Python 3",
   "language": "python",
   "name": "python3"
  },
  "language_info": {
   "codemirror_mode": {
    "name": "ipython",
    "version": 3
   },
   "file_extension": ".py",
   "mimetype": "text/x-python",
   "name": "python",
   "nbconvert_exporter": "python",
   "pygments_lexer": "ipython3",
   "version": "3.9.0"
  }
 },
 "nbformat": 4,
 "nbformat_minor": 5
}
